{
  "nbformat": 4,
  "nbformat_minor": 0,
  "metadata": {
    "colab": {
      "name": "Demo.ipynb",
      "provenance": [],
      "authorship_tag": "ABX9TyPV46SvKZJo4P5PNHCiGYB0",
      "include_colab_link": true
    },
    "kernelspec": {
      "name": "python3",
      "display_name": "Python 3"
    },
    "language_info": {
      "name": "python"
    }
  },
  "cells": [
    {
      "cell_type": "markdown",
      "metadata": {
        "id": "view-in-github",
        "colab_type": "text"
      },
      "source": [
        "<a href=\"https://colab.research.google.com/github/minaremeli/EquivalentPerturbations/blob/master/Demo.ipynb\" target=\"_parent\"><img src=\"https://colab.research.google.com/assets/colab-badge.svg\" alt=\"Open In Colab\"/></a>"
      ]
    },
    {
      "cell_type": "code",
      "source": [
        "!python -c \"import torch; print(torch.__version__)\"\n"
      ],
      "metadata": {
        "colab": {
          "base_uri": "https://localhost:8080/"
        },
        "id": "BVB4xS-53dXJ",
        "outputId": "a786991c-daff-4f6e-a396-4ad9af26c8b7"
      },
      "execution_count": 1,
      "outputs": [
        {
          "output_type": "stream",
          "name": "stdout",
          "text": [
            "1.10.0+cu111\n"
          ]
        }
      ]
    },
    {
      "cell_type": "code",
      "source": [
        "!python -c \"import torch; print(torch.version.cuda)\""
      ],
      "metadata": {
        "colab": {
          "base_uri": "https://localhost:8080/"
        },
        "id": "D3NF0Xv23hR7",
        "outputId": "7d4a00ec-ead5-4866-cbfe-e1db586dfa9d"
      },
      "execution_count": 2,
      "outputs": [
        {
          "output_type": "stream",
          "name": "stdout",
          "text": [
            "11.1\n"
          ]
        }
      ]
    },
    {
      "cell_type": "code",
      "execution_count": 3,
      "metadata": {
        "colab": {
          "base_uri": "https://localhost:8080/"
        },
        "id": "N8zxy2vkyeNd",
        "outputId": "323440af-e61b-4b63-de5c-1e1169090eab"
      },
      "outputs": [
        {
          "output_type": "stream",
          "name": "stdout",
          "text": [
            "Looking in links: https://data.pyg.org/whl/torch-1.10.0+cu111.html\n",
            "Collecting torch-scatter\n",
            "  Downloading https://data.pyg.org/whl/torch-1.10.0%2Bcu113/torch_scatter-2.0.9-cp37-cp37m-linux_x86_64.whl (7.9 MB)\n",
            "\u001b[K     |████████████████████████████████| 7.9 MB 5.2 MB/s \n",
            "\u001b[?25hInstalling collected packages: torch-scatter\n",
            "Successfully installed torch-scatter-2.0.9\n",
            "Looking in links: https://data.pyg.org/whl/torch-1.10.0+cu111.html\n",
            "Collecting torch-sparse\n",
            "  Downloading https://data.pyg.org/whl/torch-1.10.0%2Bcu113/torch_sparse-0.6.13-cp37-cp37m-linux_x86_64.whl (3.5 MB)\n",
            "\u001b[K     |████████████████████████████████| 3.5 MB 5.2 MB/s \n",
            "\u001b[?25hRequirement already satisfied: scipy in /usr/local/lib/python3.7/dist-packages (from torch-sparse) (1.4.1)\n",
            "Requirement already satisfied: numpy>=1.13.3 in /usr/local/lib/python3.7/dist-packages (from scipy->torch-sparse) (1.21.6)\n",
            "Installing collected packages: torch-sparse\n",
            "Successfully installed torch-sparse-0.6.13\n",
            "Collecting torch-geometric\n",
            "  Downloading torch_geometric-2.0.4.tar.gz (407 kB)\n",
            "\u001b[K     |████████████████████████████████| 407 kB 5.3 MB/s \n",
            "\u001b[?25hRequirement already satisfied: tqdm in /usr/local/lib/python3.7/dist-packages (from torch-geometric) (4.64.0)\n",
            "Requirement already satisfied: numpy in /usr/local/lib/python3.7/dist-packages (from torch-geometric) (1.21.6)\n",
            "Requirement already satisfied: scipy in /usr/local/lib/python3.7/dist-packages (from torch-geometric) (1.4.1)\n",
            "Requirement already satisfied: pandas in /usr/local/lib/python3.7/dist-packages (from torch-geometric) (1.3.5)\n",
            "Requirement already satisfied: jinja2 in /usr/local/lib/python3.7/dist-packages (from torch-geometric) (2.11.3)\n",
            "Requirement already satisfied: requests in /usr/local/lib/python3.7/dist-packages (from torch-geometric) (2.23.0)\n",
            "Requirement already satisfied: pyparsing in /usr/local/lib/python3.7/dist-packages (from torch-geometric) (3.0.8)\n",
            "Requirement already satisfied: scikit-learn in /usr/local/lib/python3.7/dist-packages (from torch-geometric) (1.0.2)\n",
            "Requirement already satisfied: MarkupSafe>=0.23 in /usr/local/lib/python3.7/dist-packages (from jinja2->torch-geometric) (2.0.1)\n",
            "Requirement already satisfied: python-dateutil>=2.7.3 in /usr/local/lib/python3.7/dist-packages (from pandas->torch-geometric) (2.8.2)\n",
            "Requirement already satisfied: pytz>=2017.3 in /usr/local/lib/python3.7/dist-packages (from pandas->torch-geometric) (2022.1)\n",
            "Requirement already satisfied: six>=1.5 in /usr/local/lib/python3.7/dist-packages (from python-dateutil>=2.7.3->pandas->torch-geometric) (1.15.0)\n",
            "Requirement already satisfied: certifi>=2017.4.17 in /usr/local/lib/python3.7/dist-packages (from requests->torch-geometric) (2021.10.8)\n",
            "Requirement already satisfied: idna<3,>=2.5 in /usr/local/lib/python3.7/dist-packages (from requests->torch-geometric) (2.10)\n",
            "Requirement already satisfied: chardet<4,>=3.0.2 in /usr/local/lib/python3.7/dist-packages (from requests->torch-geometric) (3.0.4)\n",
            "Requirement already satisfied: urllib3!=1.25.0,!=1.25.1,<1.26,>=1.21.1 in /usr/local/lib/python3.7/dist-packages (from requests->torch-geometric) (1.24.3)\n",
            "Requirement already satisfied: threadpoolctl>=2.0.0 in /usr/local/lib/python3.7/dist-packages (from scikit-learn->torch-geometric) (3.1.0)\n",
            "Requirement already satisfied: joblib>=0.11 in /usr/local/lib/python3.7/dist-packages (from scikit-learn->torch-geometric) (1.1.0)\n",
            "Building wheels for collected packages: torch-geometric\n",
            "  Building wheel for torch-geometric (setup.py) ... \u001b[?25l\u001b[?25hdone\n",
            "  Created wheel for torch-geometric: filename=torch_geometric-2.0.4-py3-none-any.whl size=616603 sha256=2765eb5200327d70a2f27fa25ace751d989a821aa1d91ac5dfbebc78a3370ca2\n",
            "  Stored in directory: /root/.cache/pip/wheels/18/a6/a4/ca18c3051fcead866fe7b85700ee2240d883562a1bc70ce421\n",
            "Successfully built torch-geometric\n",
            "Installing collected packages: torch-geometric\n",
            "Successfully installed torch-geometric-2.0.4\n"
          ]
        }
      ],
      "source": [
        "!pip install torch-scatter -f https://data.pyg.org/whl/torch-1.10.0+cu111.html\n",
        "!pip install torch-sparse -f https://data.pyg.org/whl/torch-1.10.0+cu111.html\n",
        "!pip install torch-geometric"
      ]
    },
    {
      "cell_type": "code",
      "source": [
        "import torch\n",
        "import torch.nn as nn\n",
        "import torch.nn.functional as F\n",
        "from torch.nn import Linear\n",
        "import numpy as np\n",
        "import networkx as nx\n",
        "import torch_geometric\n",
        "from torch_geometric.utils import to_dense_adj\n",
        "from torch_geometric.data import Data"
      ],
      "metadata": {
        "id": "iWs3mHwo2lPC"
      },
      "execution_count": 4,
      "outputs": []
    },
    {
      "cell_type": "code",
      "source": [
        "# Fill in initialisation and forward method the GCNLayer below\n",
        "class GCNLayer(nn.Module):\n",
        "    \"\"\"GCN layer to be implemented by students of practical\n",
        "\n",
        "    Args:\n",
        "        input_dim (int): Dimensionality of the input feature vectors\n",
        "        output_dim (int): Dimensionality of the output softmax distribution\n",
        "        A (torch.Tensor): 2-D adjacency matrix\n",
        "    \"\"\"\n",
        "    def __init__(self, input_dim, output_dim):\n",
        "        super(GCNLayer, self).__init__()\n",
        "        self.input_dim = input_dim\n",
        "        self.output_dim = output_dim\n",
        "\n",
        "        self.linear = nn.Linear(self.input_dim, self.output_dim, bias=False)\n",
        "\n",
        "    def forward(self, x, A):\n",
        "        n = A.shape[0]\n",
        "        A_t = A + torch.eye(n)\n",
        "        D_norm = self._get_norm_degree(A_t)\n",
        "        adj_norm = D_norm @ A_t @ D_norm\n",
        "        x = adj_norm @ x @ self.linear.weight.T\n",
        "        return x\n",
        "\n",
        "    def _get_norm_degree(self, mtx):\n",
        "      n = mtx.shape[0]\n",
        "      D = (mtx @ self._ones_mtx(n)).rsqrt() * torch.eye(n)\n",
        "      return D\n",
        "\n",
        "    def _ones_mtx(self, n):\n",
        "      return torch.ones((n, n))\n",
        "\n",
        "# Lets see the GCNLayer in action!\n",
        "class SimpleLinearizedGNN(nn.Module):\n",
        "    \"\"\"Simple GNN model using the GCNLayer implemented by students\n",
        "\n",
        "    Args:\n",
        "        input_dim (int): Dimensionality of the input feature vectors\n",
        "        output_dim (int): Dimensionality of the output softmax distribution\n",
        "        A (torch.Tensor): 2-D adjacency matrix\n",
        "    \"\"\"\n",
        "    def __init__(self, input_dim, output_dim):\n",
        "        super(SimpleLinearizedGNN, self).__init__()\n",
        "        self.input_dim = input_dim\n",
        "        self.output_dim = output_dim\n",
        "\n",
        "        self.gcn_layer = GCNLayer(input_dim, output_dim)\n",
        "        self.activation = nn.ReLU()\n",
        "        self.gcn_layer_2 = GCNLayer(output_dim, output_dim)\n",
        "\n",
        "    def forward(self, x, A):\n",
        "        x = self.gcn_layer(x, A)\n",
        "        x = self.gcn_layer_2(x, A)\n",
        "        y_hat = F.log_softmax(x, dim=1)\n",
        "        return y_hat\n",
        "\n",
        "\n",
        "gnn = SimpleLinearizedGNN(input_dim=2, output_dim=2)"
      ],
      "metadata": {
        "id": "WSyzexdNzWon"
      },
      "execution_count": 5,
      "outputs": []
    },
    {
      "cell_type": "markdown",
      "source": [
        "### Original graph"
      ],
      "metadata": {
        "id": "pd_yUE82wsPU"
      }
    },
    {
      "cell_type": "code",
      "source": [
        "# x = torch.tensor([[23.4, 2], [12.5, 5], [2.6, 12], [9.1, 54]], dtype=torch.float)\n",
        "x = torch.randn((4,2), dtype=torch.float)\n",
        "edge_index = torch.tensor([[0, 1, 1, 3, 2, 1], \n",
        "                          [1, 0, 3, 1, 1, 2]], dtype=torch.long)\n",
        "\n",
        "data = Data(x=x, edge_index=edge_index)\n",
        "\n",
        "g_orig = torch_geometric.utils.to_networkx(data, to_undirected=True)\n",
        "nx.draw(g_orig, with_labels=True)\n",
        "print(\"X features: \", x)"
      ],
      "metadata": {
        "colab": {
          "base_uri": "https://localhost:8080/",
          "height": 392
        },
        "id": "qphRjEA82toN",
        "outputId": "c4e8ef02-b932-46ee-ae59-1a45d8772189"
      },
      "execution_count": 6,
      "outputs": [
        {
          "output_type": "stream",
          "name": "stdout",
          "text": [
            "X features:  tensor([[ 0.9278,  1.6781],\n",
            "        [ 0.9281,  1.4942],\n",
            "        [-2.0109, -1.1108],\n",
            "        [-0.5252, -0.4087]])\n"
          ]
        },
        {
          "output_type": "display_data",
          "data": {
            "text/plain": [
              "<Figure size 432x288 with 1 Axes>"
            ],
            "image/png": "[encoded data removed]"
          },
          "metadata": {}
        }
      ]
    },
    {
      "cell_type": "code",
      "source": [
        "def _to_dense_adj(edge_idx):\n",
        "  return to_dense_adj(edge_idx)[0]"
      ],
      "metadata": {
        "id": "9W8Mt8PvfYnv"
      },
      "execution_count": 7,
      "outputs": []
    },
    {
      "cell_type": "code",
      "source": [
        "out = gnn(data.x, _to_dense_adj(data.edge_index))\n",
        "print(\"Model out:\\n\", out)"
      ],
      "metadata": {
        "colab": {
          "base_uri": "https://localhost:8080/"
        },
        "id": "p4xeANZle0w0",
        "outputId": "545c54c8-4e93-4888-b562-607180dbed5c"
      },
      "execution_count": 8,
      "outputs": [
        {
          "output_type": "stream",
          "name": "stdout",
          "text": [
            "Model out:\n",
            " tensor([[-0.8153, -0.5843],\n",
            "        [-0.7787, -0.6143],\n",
            "        [-0.6843, -0.7021],\n",
            "        [-0.7265, -0.6609]], grad_fn=<LogSoftmaxBackward0>)\n"
          ]
        }
      ]
    },
    {
      "cell_type": "markdown",
      "source": [
        "### Structure perturbation\n",
        "Lets connect 0 and 3!"
      ],
      "metadata": {
        "id": "E7MsJ8GNApo9"
      }
    },
    {
      "cell_type": "code",
      "source": [
        "n_1, n_2 = 0, 3 # nodes that are connected in the new graph"
      ],
      "metadata": {
        "id": "m50yBESrOUl7"
      },
      "execution_count": 9,
      "outputs": []
    },
    {
      "cell_type": "code",
      "source": [
        "edge_index_new = torch.tensor([[0, 1, 1, 3, 2, 1, n_1, n_2], \n",
        "                              [1, 0, 3, 1, 1, 2, n_2, n_1]], dtype=torch.long)\n",
        "\n",
        "data_e = Data(x=x, edge_index=edge_index_new)\n",
        "\n",
        "g_e = torch_geometric.utils.to_networkx(data_e, to_undirected=True)\n",
        "nx.draw(g_e, with_labels=True)"
      ],
      "metadata": {
        "colab": {
          "base_uri": "https://localhost:8080/",
          "height": 319
        },
        "id": "h-iVScPfAsaE",
        "outputId": "e774d99c-75c4-4217-fbd8-2571bb037e58"
      },
      "execution_count": 10,
      "outputs": [
        {
          "output_type": "display_data",
          "data": {
            "text/plain": [
              "<Figure size 432x288 with 1 Axes>"
            ],
            "image/png": "[encoded data removed]"
          },
          "metadata": {}
        }
      ]
    },
    {
      "cell_type": "code",
      "source": [
        "out_e = gnn(data_e.x, _to_dense_adj(data_e.edge_index))\n",
        "print(\"Model out:\\n\", out_e)"
      ],
      "metadata": {
        "colab": {
          "base_uri": "https://localhost:8080/"
        },
        "id": "paqaYY0g67Ua",
        "outputId": "3006b756-b15a-4ca6-d207-18908c451b3e"
      },
      "execution_count": 11,
      "outputs": [
        {
          "output_type": "stream",
          "name": "stdout",
          "text": [
            "Model out:\n",
            " tensor([[-0.7865, -0.6078],\n",
            "        [-0.7580, -0.6322],\n",
            "        [-0.6803, -0.7062],\n",
            "        [-0.7865, -0.6078]], grad_fn=<LogSoftmaxBackward0>)\n"
          ]
        }
      ]
    },
    {
      "cell_type": "markdown",
      "source": [
        "### Structure perturbation\n",
        "Lets try to reproduce that with feature perturbations instead!"
      ],
      "metadata": {
        "id": "3ew8Yt9mBPVU"
      }
    },
    {
      "cell_type": "code",
      "source": [
        "def d_o(node):\n",
        "  return 1 + g_orig.degree(node)\n",
        "\n",
        "def d_e(node):\n",
        "  return 1 + g_e.degree(node)\n",
        "\n",
        "def get_norm_degree_mtx(A):\n",
        "  n = A.shape[0]\n",
        "  return (A @ torch.ones((n, n))).rsqrt() * torch.eye(n)\n",
        "\n",
        "x_new = torch.clone(x)\n",
        "A = _to_dense_adj(data.edge_index)\n",
        "A_e = _to_dense_adj(data_e.edge_index)\n",
        "\n",
        "c_ii = (1 / (d_o(n_1)* d_o(n_1))) ** 0.5\n",
        "c_jj = (1 / (d_o(n_2) * d_o(n_2)) ) ** 0.5\n",
        "c_ij_e = (1 / (d_e(n_1) * d_e(n_2)) ) ** 0.5\n",
        "A_t = A + torch.eye(4)\n",
        "A_t_e = A_e + torch.eye(4)\n",
        "Dn_o = get_norm_degree_mtx(A_t)\n",
        "Dn_e = get_norm_degree_mtx(A_t_e)\n",
        "C_ij_o = torch.matrix_power(Dn_o @ A_t @ Dn_o, 2)\n",
        "C_ij_e = torch.matrix_power(Dn_e @ A_t_e @ Dn_e, 2)\n",
        "c_ii_inv = (C_ij_o * torch.eye(4)).inverse().diagonal()\n",
        "C_diff = C_ij_e - C_ij_o\n",
        "diff = (C_diff @ x).T * c_ii_inv\n",
        "# print(diff.T)\n",
        "\n",
        "# x_new += diff.T\n",
        "x_new[n_1] += diff.T[n_1]\n",
        "# x_new[n_2] += diff.T[n_2]\n",
        "\n",
        "# print(x_new - x)\n",
        "\n",
        "# for _ in range(2):\n",
        "#   d0 = (x_new - x)[n_1]\n",
        "#   d3 = (x_new - x)[n_2]\n",
        "#   d2 = (x_new - x)[2]\n",
        "#   x_new[1] -= (d0 + d2 + d3) * 2/2**0.5\n",
        "\n",
        "#   print((d0 + d3) * 2/2**0.5 + d2 * 1/2**0.5)\n",
        "\n",
        "#   # print(x_new - x)\n",
        "\n",
        "#   d1 = (x_new - x)[1]\n",
        "#   x_new[2] -= d1 * (1/2**0.5)\n",
        "#   x_new[n_1] -= d1 * (1/2**0.5)\n",
        "#   x_new[n_2] -= d1 * (1/2**0.5)\n",
        "\n",
        "#   print(d1 * (1/2**0.5))\n",
        "\n",
        "# print(x_new - x)\n",
        "\n",
        "data_f = Data(x=x_new, edge_index=edge_index)\n",
        "\n",
        "g_f = torch_geometric.utils.to_networkx(data_f, to_undirected=True)\n",
        "nx.draw(g_f, with_labels=True)\n",
        "print(\"X new features: \", x_new)"
      ],
      "metadata": {
        "colab": {
          "base_uri": "https://localhost:8080/",
          "height": 392
        },
        "id": "A1iasSJl9b0i",
        "outputId": "64c6d11c-228a-4485-9ebf-e1c3714a5783"
      },
      "execution_count": 15,
      "outputs": [
        {
          "output_type": "stream",
          "name": "stdout",
          "text": [
            "X new features:  tensor([[ 0.6247,  1.2364],\n",
            "        [ 0.9281,  1.4942],\n",
            "        [-2.0109, -1.1108],\n",
            "        [-0.5252, -0.4087]])\n"
          ]
        },
        {
          "output_type": "display_data",
          "data": {
            "text/plain": [
              "<Figure size 432x288 with 1 Axes>"
            ],
            "image/png": "[encoded data removed]"
          },
          "metadata": {}
        }
      ]
    },
    {
      "cell_type": "code",
      "source": [
        "out_f = gnn(data_f.x, _to_dense_adj(data_f.edge_index))\n",
        "print(\"Model out:\\n\", out_f)"
      ],
      "metadata": {
        "colab": {
          "base_uri": "https://localhost:8080/"
        },
        "id": "eG-BvVd77JV_",
        "outputId": "7ee71fb2-a83d-4d51-ecd0-4a91351616d8"
      },
      "execution_count": 16,
      "outputs": [
        {
          "output_type": "stream",
          "name": "stdout",
          "text": [
            "Model out:\n",
            " tensor([[-0.7865, -0.6078],\n",
            "        [-0.7589, -0.6315],\n",
            "        [-0.6756, -0.7110],\n",
            "        [-0.7175, -0.6694]], grad_fn=<LogSoftmaxBackward0>)\n"
          ]
        }
      ]
    },
    {
      "cell_type": "markdown",
      "source": [
        "### Results\n",
        "\n",
        "As we can see, the output at the targeted node (n_1) of the feature perturbed and the structure perturbed GNN is not all that different."
      ],
      "metadata": {
        "id": "eqXq4AmKzoF6"
      }
    },
    {
      "cell_type": "code",
      "source": [
        "(out_e - out_f)[n_1]"
      ],
      "metadata": {
        "colab": {
          "base_uri": "https://localhost:8080/"
        },
        "id": "TeME9abq88ti",
        "outputId": "b83403ac-467b-4db1-f3c1-d9a4289d5e16"
      },
      "execution_count": 18,
      "outputs": [
        {
          "output_type": "execute_result",
          "data": {
            "text/plain": [
              "tensor([-5.9605e-08,  0.0000e+00], grad_fn=<SelectBackward0>)"
            ]
          },
          "metadata": {},
          "execution_count": 18
        }
      ]
    }
  ]
}